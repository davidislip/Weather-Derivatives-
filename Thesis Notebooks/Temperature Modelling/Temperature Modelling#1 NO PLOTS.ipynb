{
 "cells": [
  {
   "cell_type": "markdown",
   "metadata": {},
   "source": [
    "## Modified Ornstein Uhlenbeck Process for Simulating Temperature Paths\n",
    "### David Islip"
   ]
  },
  {
   "cell_type": "code",
   "execution_count": 1,
   "metadata": {},
   "outputs": [
    {
     "name": "stderr",
     "output_type": "stream",
     "text": [
      "C:\\Program Files\\Anaconda3\\lib\\site-packages\\statsmodels\\compat\\pandas.py:56: FutureWarning: The pandas.core.datetools module is deprecated and will be removed in a future version. Please use the pandas.tseries module instead.\n",
      "  from pandas.core import datetools\n"
     ]
    }
   ],
   "source": [
    "import pandas as pd \n",
    "import matplotlib.pyplot as plt\n",
    "import matplotlib\n",
    "import datetime as dt\n",
    "import scipy.stats as stats\n",
    "from scipy.stats import norm\n",
    "import numpy as np\n",
    "import math\n",
    "import seaborn as sns\n",
    "from  InvarianceTestEllipsoid import InvarianceTestEllipsoid\n",
    "from autocorrelation import autocorrelation\n",
    "import statsmodels.api as sm\n",
    "from statsmodels.sandbox.regression.predstd import wls_prediction_std\n",
    "import statsmodels.tsa.ar_model as ar_model\n",
    "import pickle\n",
    "%matplotlib inline"
   ]
  },
  {
   "cell_type": "markdown",
   "metadata": {},
   "source": [
    "### 0. The model:\n",
    "The model that will be used to simulate temperature paths is as in Benth et al. Essentially the model is a discretizination of a ornstein uhlenbeck SDE with a linear - periodic mean function and a periodic volatility function:\n",
    "\n",
    "$dT(t) = ds(t) - \\kappa(T(t) - s(t))dt + \\sigma(t)dB(t)$\n",
    "\n",
    "where \n",
    "\n",
    "$s(t) = a + bt + \\sum_ia_isin(2\\pi it/365) + \\sum_jb_jcos(2\\pi jt/365)$\n",
    "\n",
    "and\n",
    "\n",
    "$\\sigma^2(t) = a + \\sum_ic_isin(2\\pi it/365) + \\sum_jd_jcos(2\\pi jt/365)$\n"
   ]
  },
  {
   "cell_type": "code",
   "execution_count": 2,
   "metadata": {},
   "outputs": [],
   "source": [
    "T = pd.read_csv(\"CleanedTemperature.csv\")\n",
    "T.rename(columns={T.columns[0]: 'Date'}, inplace=True)\n",
    "T.index = pd.to_datetime(T[\"Date\"])\n",
    "T.drop(T.index[T.index.dayofyear == 366],axis=0, inplace = True)\n",
    "T.drop(\"Date\", axis = 1, inplace = True)\n",
    "#T.plot(subplots = True, fontsize = 8,layout = (4,3))\n",
    "#T[\"Buttonville A\"].plot()"
   ]
  },
  {
   "cell_type": "markdown",
   "metadata": {},
   "source": [
    "### 1. Regression to obtain $m(t)$"
   ]
  },
  {
   "cell_type": "code",
   "execution_count": 3,
   "metadata": {},
   "outputs": [],
   "source": [
    "Y = np.array(T)\n",
    "#generating the factor space for the mean\n",
    "a = np.ones(len(Y))\n",
    "t = np.linspace(1,len(Y),len(Y))\n",
    "N = 4 #number of sine and cosine functions to include\n",
    "n = np.linspace(1,N,N)\n",
    "Sines = np.sin(2*np.pi*(np.outer(t,n))/365)\n",
    "Cosines = np.cos(2*np.pi*(np.outer(t,n))/365)\n",
    "X = np.stack((a, t), axis=1)\n",
    "X = np.concatenate((X,Sines,Cosines),axis=1)\n",
    "## making sure the columns are readable\n",
    "cols = ['Constant', 'time']\n",
    "for i in range(N):\n",
    "    cols.append('sin(2pi*'+str(i+1)+'t/365)')\n",
    "for i in range(N):\n",
    "    cols.append('cos(2pi*'+str(i+1)+'t/365)')\n",
    "X = pd.DataFrame(X,columns = cols)"
   ]
  },
  {
   "cell_type": "markdown",
   "metadata": {},
   "source": [
    "#### 1.1 Using Lasso Regression to shrink factors to zero\n",
    "The plot below varies the magnitude of the lasso regularization to see which parameters go to zero\n",
    "\n",
    "Training data:  $(x_t,y_t)$\n",
    "\n",
    "Model Specification: $Y = \\beta X + C$\n",
    "\n",
    "Lasso regularization: $\\underset{\\beta}{\\operatorname{argmin}}\\sum_t(y_t - (\\beta x_t + C))^2 + \\lambda||\\beta||_{l1} $\n",
    "\n",
    "Depending on the value of $\\lambda$, the coefficients in beta will shrink to zero"
   ]
  },
  {
   "cell_type": "code",
   "execution_count": 4,
   "metadata": {},
   "outputs": [],
   "source": [
    "Y = np.transpose(Y)\n",
    "y = Y[0][:]\n",
    "L = []\n",
    "model = sm.OLS(y, X)\n",
    "for i in range(10):\n",
    "    results = model.fit_regularized(method = 'elastic_net',alpha=i/10, L1_wt=0.5)\n",
    "    L.append(results.params)"
   ]
  },
  {
   "cell_type": "code",
   "execution_count": 5,
   "metadata": {},
   "outputs": [],
   "source": [
    "L = pd.DataFrame(L)\n",
    "L = L/L.max(axis=0)\n",
    "#L.plot()\n",
    "#L"
   ]
  },
  {
   "cell_type": "code",
   "execution_count": 7,
   "metadata": {},
   "outputs": [],
   "source": [
    "cols = L.columns[L.iloc[len(L)-1] > 0.001]\n",
    "Xs = X[cols]"
   ]
  },
  {
   "cell_type": "markdown",
   "metadata": {},
   "source": [
    "#### 1.2 Mean Regression Results (p-values, coefficients .... )"
   ]
  },
  {
   "cell_type": "code",
   "execution_count": 8,
   "metadata": {},
   "outputs": [],
   "source": [
    "model = sm.OLS(y,Xs)\n",
    "results = model.fit()\n",
    "#print(results.summary())"
   ]
  },
  {
   "cell_type": "code",
   "execution_count": 11,
   "metadata": {},
   "outputs": [],
   "source": [
    "Comparison = pd.DataFrame(results.predict(Xs))\n",
    "Comparison[\"Actual\"] = y\n",
    "Comparison.rename(columns={Comparison.columns[0]: 'Predicted'}, inplace=True)\n",
    "#Comparison.iloc[len(y)-365:len(y)].plot(title = \"Buttonville A. Temperature\");"
   ]
  },
  {
   "cell_type": "markdown",
   "metadata": {},
   "source": [
    "### 2. AR(1) Process for the Residuals\n",
    "\n",
    "\n",
    "Discretizing the SDE implies that the mean removed temperature series follows an AR(1) process\n",
    "\n",
    "$X_{t+1}= \\alpha X_t + \\sigma (t)\\epsilon$"
   ]
  },
  {
   "cell_type": "markdown",
   "metadata": {},
   "source": [
    "#### 2.1 The code below is motivation for an AR(1) process for the residuals obtained from above: we see that there is significant correlation among the residuals from the mean process"
   ]
  },
  {
   "cell_type": "code",
   "execution_count": 12,
   "metadata": {},
   "outputs": [],
   "source": [
    "#epsi = Comparison['Actual'] - Comparison['Predicted']\n",
    "#epsi = np.array(epsi)\n",
    "#epsi = np.expand_dims(epsi, axis=0)\n",
    "\n",
    "#lag_ = 10  # number of lags (for auto correlation test)\n",
    "#acf = autocorrelation(epsi, lag_)\n",
    "\n",
    "#lag = 10 # lag to be printed\n",
    "#ell_scale = 2  # ellipsoid radius coefficient\n",
    "#fit = 0  # normal fitting\n",
    "#nvarianceTestEllipsoid(epsi, acf[0,1:], lag, fit, ell_scale);"
   ]
  },
  {
   "cell_type": "code",
   "execution_count": 14,
   "metadata": {},
   "outputs": [],
   "source": [
    "epsi = Comparison['Actual'] - Comparison['Predicted']\n",
    "epsi = np.array(epsi)\n",
    "model = sm.tsa.AR(epsi)\n",
    "AResults= model.fit(maxlag = 30, ic = \"bic\",method = 'cmle')\n",
    "#print(\"The maximum number of required lags for the residuals above according to the Bayes Information Criterion is:\")\n",
    "#sm.tsa.AR(epsi).select_order(maxlag = 10, ic = 'bic',method='cmle')"
   ]
  },
  {
   "cell_type": "code",
   "execution_count": 16,
   "metadata": {},
   "outputs": [],
   "source": [
    "ar_mod = sm.OLS(epsi[1:], epsi[:-1])\n",
    "ar_res = ar_mod.fit()\n",
    "#print(ar_res.summary())\n",
    "\n",
    "ep = ar_res.predict()\n",
    "#print(len(ep),len(epsi))\n",
    "z = ep - epsi[1:]\n",
    "\n",
    "#plt.plot(epsi[1:],  color='black')\n",
    "#plt.plot(ep, color='blue',linewidth=3)\n",
    "#plt.title('Residuals AR(1) Process')\n",
    "#plt.ylabel(\" \")\n",
    "#plt.xlabel(\"Days\")\n",
    "#plt.legend()"
   ]
  },
  {
   "cell_type": "markdown",
   "metadata": {},
   "source": [
    "#### 2.2 Invariance check for the residuals of the AR(1) process"
   ]
  },
  {
   "cell_type": "code",
   "execution_count": 17,
   "metadata": {},
   "outputs": [],
   "source": [
    "z = np.expand_dims(z, axis=0)\n",
    "\n",
    "#lag_ = 10  # number of lags (for auto correlation test)\n",
    "#acf = autocorrelation(z, lag_)\n",
    "\n",
    "#lag = 10  # lag to be printed\n",
    "#ell_scale = 2  # ellipsoid radius coefficient\n",
    "#fit = 0  # normal fitting\n",
    "#InvarianceTestEllipsoid(z, acf[0,1:], lag, fit, ell_scale);"
   ]
  },
  {
   "cell_type": "markdown",
   "metadata": {},
   "source": [
    "#### 2.3 As per Benth lets see what the residuals of the AR(1) process are doing..."
   ]
  },
  {
   "cell_type": "code",
   "execution_count": 23,
   "metadata": {},
   "outputs": [],
   "source": [
    "z = ep - epsi[1:]\n",
    "#plt.plot(z**2)"
   ]
  },
  {
   "cell_type": "markdown",
   "metadata": {
    "collapsed": true
   },
   "source": [
    "### 3. Modelling the Volatility Term: $\\sigma^2(t) $"
   ]
  },
  {
   "cell_type": "code",
   "execution_count": 24,
   "metadata": {},
   "outputs": [],
   "source": [
    "sigma = z**2\n",
    "L = []\n",
    "volmodel = sm.OLS(sigma, X[1:])\n",
    "for i in range(10):\n",
    "    volresults = volmodel.fit_regularized(method = 'elastic_net',alpha=i/10, L1_wt=0.5)\n",
    "    L.append(volresults.params)"
   ]
  },
  {
   "cell_type": "code",
   "execution_count": 25,
   "metadata": {},
   "outputs": [],
   "source": [
    "L = pd.DataFrame(L)\n",
    "L = L/L.max(axis=0)\n",
    "#L.plot()\n",
    "#L"
   ]
  },
  {
   "cell_type": "code",
   "execution_count": 26,
   "metadata": {},
   "outputs": [],
   "source": [
    "volcols = L.columns[L.iloc[len(L)-1] > 0.001]\n",
    "Xvol = X[volcols].iloc[1:]\n",
    "volmodel = sm.OLS(sigma,Xvol)\n",
    "VolResults = volmodel.fit()\n",
    "#print(VolResults.summary())"
   ]
  },
  {
   "cell_type": "code",
   "execution_count": 27,
   "metadata": {},
   "outputs": [],
   "source": [
    "VolComparison = pd.DataFrame(VolResults.predict())\n",
    "VolComparison[\"Actual\"] = sigma\n",
    "VolComparison.rename(columns={VolComparison.columns[0]: 'Predicted'}, inplace=True)\n",
    "#VolComparison.iloc[0:720]['Actual'].plot(title = \"Hamilton Volatility Model\")\n",
    "#VolComparison.iloc[0:720]['Predicted'].plot(title = \"Buttonville Volatility Model\")"
   ]
  },
  {
   "cell_type": "code",
   "execution_count": 28,
   "metadata": {},
   "outputs": [],
   "source": [
    "epsi = z/(VolResults.predict())**0.5\n",
    "epsi = np.expand_dims(epsi, axis=0)\n",
    "lag_ = 10  # number of lags (for auto correlation test)\n",
    "acf = autocorrelation(epsi, lag_)\n",
    "\n",
    "lag = 10  # lag to be printed\n",
    "ell_scale = 2  # ellipsoid radius coefficient\n",
    "fit = 0  # normal fitting\n",
    "#InvarianceTestEllipsoid(epsi, acf[0,1:], lag, fit, ell_scale);\n"
   ]
  },
  {
   "cell_type": "markdown",
   "metadata": {},
   "source": [
    "### 4. Monte Carlo Simulation"
   ]
  },
  {
   "cell_type": "code",
   "execution_count": 29,
   "metadata": {},
   "outputs": [],
   "source": [
    "#tau is the risk horizon\n",
    "tau = 365*2\n",
    "\n",
    "a = np.ones(tau)\n",
    "t = np.linspace(len(y),len(y)+tau,tau)\n",
    "N = 4 #number of sine and cosine functions to include\n",
    "n = np.linspace(1,N,N)\n",
    "Sines = np.sin(2*np.pi*(np.outer(t,n))/365)\n",
    "Cosines = np.cos(2*np.pi*(np.outer(t,n))/365)\n",
    "X_proj = np.stack((a, t), axis=1)\n",
    "X_proj = np.concatenate((X_proj,Sines,Cosines),axis=1)\n",
    "temp_cols = ['Constant', 'time']\n",
    "for i in range(N):\n",
    "    temp_cols.append('sin(2pi*'+str(i+1)+'t/365)')\n",
    "for i in range(N):\n",
    "    temp_cols.append('cos(2pi*'+str(i+1)+'t/365)')\n",
    "X_proj = pd.DataFrame(X_proj,columns = temp_cols)"
   ]
  },
  {
   "cell_type": "code",
   "execution_count": 30,
   "metadata": {},
   "outputs": [],
   "source": [
    "b = X_proj[cols]\n",
    "results.predict(b);"
   ]
  },
  {
   "cell_type": "code",
   "execution_count": 36,
   "metadata": {},
   "outputs": [
    {
     "data": {
      "image/png": "[encoded data removed]",
      "text/plain": [
       "<matplotlib.figure.Figure at 0xdc046a0>"
      ]
     },
     "metadata": {},
     "output_type": "display_data"
    }
   ],
   "source": [
    "#M is the number of monte carlo paths to simulate\n",
    "M = 10000\n",
    "invariants  = np.random.normal(0, 1, (tau,M))\n",
    "vol_proj = (VolResults.predict(X_proj[volcols]))**0.5\n",
    "sig_hat = np.expand_dims(vol_proj, axis=1)*invariants\n",
    "AR = np.zeros(sig_hat.shape)\n",
    "for i in range(sig_hat.shape[0]-1):\n",
    "    AR[i+1] = ar_res.params[0]*AR[i]+ sig_hat[i]\n",
    "x_proj = X_proj[cols]\n",
    "Mean_Temp = np.expand_dims(results.predict(x_proj ),axis=1)\n",
    "Temp_Paths = np.repeat(Mean_Temp,M,axis=1)+ AR\n",
    "#plt.plot(Temp_Paths[:,0:100],'r-',alpha= 0.01);"
   ]
  },
  {
   "cell_type": "code",
   "execution_count": 32,
   "metadata": {},
   "outputs": [
    {
     "data": {
      "image/png": "[encoded data removed]",
      "text/plain": [
       "<matplotlib.figure.Figure at 0xe2389e8>"
      ]
     },
     "metadata": {},
     "output_type": "display_data"
    }
   ],
   "source": [
    "T_innov = pd.DataFrame(invariants)\n",
    "T_out = pd.DataFrame(Temp_Paths)\n",
    "T_out.index = np.arange(T.index[-1],T.index[-1] + dt.timedelta(tau),dt.timedelta(days=1)).astype(dt.datetime)\n",
    "T_innov.index = T_out.index\n",
    "#T_out.to_pickle(\"C:\\\\Users\\\\islipd\\\\Documents\\\\Thesis Notebooks\\\\Tout.pkl\")\n",
    "#T_innov.to_pickle(\"C:\\\\Users\\\\islipd\\\\Documents\\\\Thesis Notebooks\\\\Tinnov.pkl\")\n",
    "#T_out.mean(axis = 1).plot()\n",
    "T_out[\"model#\"] = 1\n",
    "T_innov"
   ]
  }
 ],
 "metadata": {
  "anaconda-cloud": {},
  "kernelspec": {
   "display_name": "Python [conda root]",
   "language": "python",
   "name": "conda-root-py"
  },
  "language_info": {
   "codemirror_mode": {
    "name": "ipython",
    "version": 3
   },
   "file_extension": ".py",
   "mimetype": "text/x-python",
   "name": "python",
   "nbconvert_exporter": "python",
   "pygments_lexer": "ipython3",
   "version": "3.5.4"
  }
 },
 "nbformat": 4,
 "nbformat_minor": 1
}
