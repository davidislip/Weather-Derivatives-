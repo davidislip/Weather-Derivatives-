{
 "cells": [
  {
   "cell_type": "markdown",
   "metadata": {},
   "source": [
    "# Optimal Weather Derivative Hedge "
   ]
  },
  {
   "cell_type": "code",
   "execution_count": 1,
   "metadata": {},
   "outputs": [
    {
     "name": "stderr",
     "output_type": "stream",
     "text": [
      "C:\\Program Files\\Anaconda3\\lib\\site-packages\\statsmodels\\compat\\pandas.py:56: FutureWarning: The pandas.core.datetools module is deprecated and will be removed in a future version. Please use the pandas.tseries module instead.\n",
      "  from pandas.core import datetools\n"
     ]
    }
   ],
   "source": [
    "%matplotlib inline\n",
    "import pandas as pd\n",
    "import numpy as np\n",
    "import matplotlib.pyplot as plt\n",
    "import matplotlib\n",
    "import datetime as dt\n",
    "from scipy.optimize import minimize\n",
    "from mpl_toolkits.mplot3d import Axes3D\n",
    "from matplotlib import cm\n",
    "from  InvarianceTestEllipsoid import InvarianceTestEllipsoid\n",
    "from autocorrelation import autocorrelation\n",
    "from scipy import stats\n",
    "import scipy.signal as sig\n",
    "import statsmodels.api as sm\n",
    "from scipy.optimize import minimize"
   ]
  },
  {
   "cell_type": "code",
   "execution_count": 2,
   "metadata": {},
   "outputs": [],
   "source": [
    "Tin = pd.read_pickle(\"C:\\\\Users\\\\islipd\\\\Documents\\\\Thesis Notebooks\\\\Tout.pkl\")\n",
    "\n",
    "eta = pd.read_pickle(\"C:\\\\Users\\\\islipd\\\\Documents\\\\Thesis Notebooks\\\\Tinnov.pkl\")\n",
    "\n",
    "Pin = pd.read_pickle(\"C:\\\\Users\\\\islipd\\\\Documents\\\\Thesis Notebooks\\\\Pout.pkl\")\n",
    "\n",
    "Loss = pd.read_pickle(\"C:\\\\Users\\\\islipd\\\\Documents\\\\Thesis Notebooks\\\\Loss.pkl\")\n",
    "\n",
    "dV = pd.read_pickle(\"C:\\\\Users\\\\islipd\\\\Documents\\\\Thesis Notebooks\\\\dV.pkl\")\n",
    "\n",
    "V0 = pd.read_pickle(\"C:\\\\Users\\\\islipd\\\\Documents\\\\Thesis Notebooks\\\\V0.pkl\")"
   ]
  },
  {
   "cell_type": "code",
   "execution_count": 3,
   "metadata": {},
   "outputs": [
    {
     "data": {
      "text/plain": [
       "-1067.504995273708"
      ]
     },
     "execution_count": 3,
     "metadata": {},
     "output_type": "execute_result"
    },
    {
     "data": {
      "image/png": "[encoded data removed]",
      "text/plain": [
       "<matplotlib.figure.Figure at 0x64185c0>"
      ]
     },
     "metadata": {},
     "output_type": "display_data"
    }
   ],
   "source": [
    "Loss.hist(bins=100);\n",
    "Loss.mean()"
   ]
  },
  {
   "cell_type": "markdown",
   "metadata": {},
   "source": [
    "### Too many constraints for daves laptop! See S. Alexander et al "
   ]
  },
  {
   "cell_type": "code",
   "execution_count": 4,
   "metadata": {},
   "outputs": [],
   "source": [
    "def rho(z):\n",
    "    epsilon = 0.1\n",
    "    if z>= epsilon:\n",
    "        return z\n",
    "    elif np.abs(z) < epsilon:\n",
    "        return z**2/(4*epsilon) + 0.5*z + 0.25*epsilon\n",
    "    else:\n",
    "        return 0\n",
    "    return -1\n",
    "\n",
    "def Drho(z):\n",
    "    epsilon = 0.1\n",
    "    if z>= epsilon:\n",
    "        return 1\n",
    "    elif np.abs(z) < epsilon:\n",
    "        return z/(2*epsilon) + 0.5\n",
    "    else:\n",
    "        return 0\n",
    "    return -1\n",
    "vrho = np.vectorize(rho)\n",
    "vDrho = np.vectorize(Drho)"
   ]
  },
  {
   "cell_type": "code",
   "execution_count": 20,
   "metadata": {},
   "outputs": [],
   "source": [
    "alpha = 1\n",
    "x = np.random.rand(dV.shape[1]+1)\n",
    "V0 = np.array(V0)\n",
    "deltaV = np.array(dV)\n",
    "Lss = np.array(Loss)\n",
    "Beta = 0.95\n",
    "omega = 10**(-4)\n",
    "c = omega*np.percentile(Lss, 100*Beta)\n",
    "C = 5000;\n",
    "def F(x):\n",
    "    return x[0] + (1/(1-Beta))*vrho(Lss - np.inner(deltaV,x[1:])-x[0]).mean() + c*abs(x[1:]).sum()\n",
    "F(x)\n",
    "def grad_F(x):\n",
    "    der = np.zeros_like(x)\n",
    "    der[0] = 1 - (1/(1-Beta))*vDrho(Lss - np.inner(deltaV,x[1:])-x[0]).mean()\n",
    "    left = np.expand_dims((1/(1-Beta))*vDrho(Lss - np.inner(deltaV,x[1:])-x[0]),axis=0)\n",
    "    M = left.size\n",
    "    der[1:] = -1*(1/M)*np.inner(left,np.transpose(deltaV)) + c\n",
    "    return der\n"
   ]
  },
  {
   "cell_type": "code",
   "execution_count": 21,
   "metadata": {},
   "outputs": [],
   "source": [
    "cons = ({'type': 'ineq',\n",
    "         'fun' : lambda x: -1*np.inner(V0,x[1:]) + C,\n",
    "         'jac' : lambda x: -1*np.insert(V0,0,0)},\n",
    "       {'type': 'ineq',\n",
    "          'fun' : lambda x: -1*Lss.mean()+1*np.inner(deltaV, x[1:]).mean(),\n",
    "          'jac' : lambda x: np.insert(1*deltaV.mean(axis = 0),0,0)})\n",
    "bnds = ((None,None),)\n",
    "for i in range(dV.shape[1]):\n",
    "    bnds = bnds + ((0, C),)\n"
   ]
  },
  {
   "cell_type": "code",
   "execution_count": 22,
   "metadata": {},
   "outputs": [
    {
     "name": "stdout",
     "output_type": "stream",
     "text": [
      "Optimization terminated successfully.    (Exit mode 0)\n",
      "            Current function value: 2833.015246927143\n",
      "            Iterations: 55\n",
      "            Function evaluations: 86\n",
      "            Gradient evaluations: 55\n"
     ]
    }
   ],
   "source": [
    "res = minimize(F, x , jac=grad_F, bounds = bnds,\n",
    "               constraints=cons, method='SLSQP', options={'disp': True})"
   ]
  },
  {
   "cell_type": "code",
   "execution_count": 7,
   "metadata": {},
   "outputs": [
    {
     "data": {
      "text/plain": [
       "(10000, 240)"
      ]
     },
     "execution_count": 7,
     "metadata": {},
     "output_type": "execute_result"
    }
   ],
   "source": [
    "dV.shape"
   ]
  },
  {
   "cell_type": "code",
   "execution_count": 23,
   "metadata": {},
   "outputs": [
    {
     "name": "stdout",
     "output_type": "stream",
     "text": [
      "Var without:2128.35273923\n",
      "Var with:2060.42870667\n",
      "% decrease:-0.0319138981573\n",
      "Cost of portfolio:827.865656145\n"
     ]
    },
    {
     "data": {
      "text/html": [
       "<div>\n",
       "<style scoped>\n",
       "    .dataframe tbody tr th:only-of-type {\n",
       "        vertical-align: middle;\n",
       "    }\n",
       "\n",
       "    .dataframe tbody tr th {\n",
       "        vertical-align: top;\n",
       "    }\n",
       "\n",
       "    .dataframe thead th {\n",
       "        text-align: right;\n",
       "    }\n",
       "</style>\n",
       "<table border=\"1\" class=\"dataframe\">\n",
       "  <thead>\n",
       "    <tr style=\"text-align: right;\">\n",
       "      <th></th>\n",
       "      <th>0</th>\n",
       "    </tr>\n",
       "  </thead>\n",
       "  <tbody>\n",
       "    <tr>\n",
       "      <th>0</th>\n",
       "      <td>(2017-08-24 00:00:00, 91.0, -1.0, CDD, call)</td>\n",
       "    </tr>\n",
       "    <tr>\n",
       "      <th>1</th>\n",
       "      <td>(2017-08-24 00:00:00, 182.0, 0.0, Precip, call)</td>\n",
       "    </tr>\n",
       "    <tr>\n",
       "      <th>2</th>\n",
       "      <td>(2017-08-24 00:00:00, 182.0, 2.0, Precip, call)</td>\n",
       "    </tr>\n",
       "    <tr>\n",
       "      <th>3</th>\n",
       "      <td>(2017-11-23 00:00:00, 91.0, 0.0, HDD, call)</td>\n",
       "    </tr>\n",
       "    <tr>\n",
       "      <th>4</th>\n",
       "      <td>(2017-11-23 00:00:00, 91.0, 1.0, HDD, call)</td>\n",
       "    </tr>\n",
       "    <tr>\n",
       "      <th>5</th>\n",
       "      <td>(2017-11-23 00:00:00, 182.0, -1.0, HDD, call)</td>\n",
       "    </tr>\n",
       "    <tr>\n",
       "      <th>6</th>\n",
       "      <td>(2017-11-23 00:00:00, 182.0, 0.0, Precip, call)</td>\n",
       "    </tr>\n",
       "    <tr>\n",
       "      <th>7</th>\n",
       "      <td>(2017-11-23 00:00:00, 182.0, 1.0, HDD, call)</td>\n",
       "    </tr>\n",
       "    <tr>\n",
       "      <th>8</th>\n",
       "      <td>(2018-02-22 00:00:00, 91.0, 1.0, Precip, call)</td>\n",
       "    </tr>\n",
       "    <tr>\n",
       "      <th>9</th>\n",
       "      <td>(2018-02-22 00:00:00, 182.0, 0.0, CDD, call)</td>\n",
       "    </tr>\n",
       "    <tr>\n",
       "      <th>10</th>\n",
       "      <td>(2018-05-24 00:00:00, 91.0, 0.0, Precip, call)</td>\n",
       "    </tr>\n",
       "    <tr>\n",
       "      <th>11</th>\n",
       "      <td>(2018-05-24 00:00:00, 182.0, -2.0, HDD, put)</td>\n",
       "    </tr>\n",
       "    <tr>\n",
       "      <th>12</th>\n",
       "      <td>(2018-05-24 00:00:00, 182.0, -1.0, HDD, put)</td>\n",
       "    </tr>\n",
       "    <tr>\n",
       "      <th>13</th>\n",
       "      <td>(2018-05-24 00:00:00, 182.0, 0.0, CDD, call)</td>\n",
       "    </tr>\n",
       "    <tr>\n",
       "      <th>14</th>\n",
       "      <td>(2018-05-24 00:00:00, 182.0, 2.0, HDD, call)</td>\n",
       "    </tr>\n",
       "  </tbody>\n",
       "</table>\n",
       "</div>"
      ],
      "text/plain": [
       "                                                  0\n",
       "0      (2017-08-24 00:00:00, 91.0, -1.0, CDD, call)\n",
       "1   (2017-08-24 00:00:00, 182.0, 0.0, Precip, call)\n",
       "2   (2017-08-24 00:00:00, 182.0, 2.0, Precip, call)\n",
       "3       (2017-11-23 00:00:00, 91.0, 0.0, HDD, call)\n",
       "4       (2017-11-23 00:00:00, 91.0, 1.0, HDD, call)\n",
       "5     (2017-11-23 00:00:00, 182.0, -1.0, HDD, call)\n",
       "6   (2017-11-23 00:00:00, 182.0, 0.0, Precip, call)\n",
       "7      (2017-11-23 00:00:00, 182.0, 1.0, HDD, call)\n",
       "8    (2018-02-22 00:00:00, 91.0, 1.0, Precip, call)\n",
       "9      (2018-02-22 00:00:00, 182.0, 0.0, CDD, call)\n",
       "10   (2018-05-24 00:00:00, 91.0, 0.0, Precip, call)\n",
       "11     (2018-05-24 00:00:00, 182.0, -2.0, HDD, put)\n",
       "12     (2018-05-24 00:00:00, 182.0, -1.0, HDD, put)\n",
       "13     (2018-05-24 00:00:00, 182.0, 0.0, CDD, call)\n",
       "14     (2018-05-24 00:00:00, 182.0, 2.0, HDD, call)"
      ]
     },
     "execution_count": 23,
     "metadata": {},
     "output_type": "execute_result"
    },
    {
     "data": {
      "image/png": "[encoded data removed]",
      "text/plain": [
       "<matplotlib.figure.Figure at 0xce810b8>"
      ]
     },
     "metadata": {},
     "output_type": "display_data"
    }
   ],
   "source": [
    "Lss_opt = Lss - np.inner(deltaV,res.x[1:])\n",
    "plt.figure\n",
    "pd.DataFrame(Lss_opt).plot.density()\n",
    "Loss.plot.density()\n",
    "print(\"Var without:\" + str(np.percentile(Lss, 100*Beta)))\n",
    "print(\"Var with:\" + str(np.percentile(Lss_opt, 100*Beta)))\n",
    "print(\"% decrease:\" + str((np.percentile(Lss_opt, 100*Beta)-np.percentile(Lss, 100*Beta))/np.percentile(Lss, 100*Beta)))\n",
    "print(\"Cost of portfolio:\" + str(np.inner(V0,res.x[1:])))\n",
    "weights = res.x[1:]/(res.x[1:].sum());\n",
    "pd.DataFrame(dV.columns[weights > 0.01])"
   ]
  },
  {
   "cell_type": "code",
   "execution_count": 24,
   "metadata": {},
   "outputs": [
    {
     "data": {
      "text/plain": [
       "[<matplotlib.lines.Line2D at 0x63fa5c0>]"
      ]
     },
     "execution_count": 24,
     "metadata": {},
     "output_type": "execute_result"
    },
    {
     "data": {
      "image/png": "[encoded data removed]",
      "text/plain": [
       "<matplotlib.figure.Figure at 0xce7a2e8>"
      ]
     },
     "metadata": {},
     "output_type": "display_data"
    }
   ],
   "source": [
    "plt.figure\n",
    "plt.plot(weights)"
   ]
  }
 ],
 "metadata": {
  "kernelspec": {
   "display_name": "Python [conda root]",
   "language": "python",
   "name": "conda-root-py"
  },
  "language_info": {
   "codemirror_mode": {
    "name": "ipython",
    "version": 3
   },
   "file_extension": ".py",
   "mimetype": "text/x-python",
   "name": "python",
   "nbconvert_exporter": "python",
   "pygments_lexer": "ipython3",
   "version": "3.5.4"
  }
 },
 "nbformat": 4,
 "nbformat_minor": 2
}
