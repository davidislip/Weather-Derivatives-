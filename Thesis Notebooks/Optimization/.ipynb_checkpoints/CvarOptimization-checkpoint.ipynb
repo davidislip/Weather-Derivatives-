{
 "cells": [
  {
   "cell_type": "markdown",
   "metadata": {},
   "source": [
    "# Optimal Weather Derivative Hedge "
   ]
  },
  {
   "cell_type": "code",
   "execution_count": 16,
   "metadata": {},
   "outputs": [],
   "source": [
    "%matplotlib inline\n",
    "import pandas as pd\n",
    "import numpy as np\n",
    "import matplotlib.pyplot as plt\n",
    "import matplotlib\n",
    "import datetime as dt\n",
    "from scipy.optimize import minimize\n",
    "from mpl_toolkits.mplot3d import Axes3D\n",
    "from matplotlib import cm\n",
    "from  InvarianceTestEllipsoid import InvarianceTestEllipsoid\n",
    "from autocorrelation import autocorrelation\n",
    "from scipy import stats\n",
    "import scipy.signal as sig\n",
    "import statsmodels.api as sm\n",
    "from scipy.optimize import minimize\n",
    "import os\n",
    "import os.path\n",
    "\n",
    "#taking care of the directories\n",
    "current_dir = os.getcwd()\n",
    "parent = os.path.join(current_dir, \"..\")\n",
    "normal_parent = os.path.normpath(parent)"
   ]
  },
  {
   "cell_type": "code",
   "execution_count": 17,
   "metadata": {},
   "outputs": [],
   "source": [
    "Tin = pd.read_pickle(normal_parent+\"\\\\Tout.pkl\")\n",
    "\n",
    "eta = pd.read_pickle(normal_parent+\"\\\\Tinnov.pkl\")\n",
    "\n",
    "Pin = pd.read_pickle(normal_parent+\"\\\\Pout.pkl\")\n",
    "\n",
    "Loss = pd.read_pickle(normal_parent+\"\\\\Loss.pkl\")\n",
    "\n",
    "dV = pd.read_pickle(normal_parent+\"\\\\dV.pkl\")\n",
    "\n",
    "V0 = pd.read_pickle(normal_parent+\"\\\\V0.pkl\")"
   ]
  },
  {
   "cell_type": "code",
   "execution_count": 18,
   "metadata": {},
   "outputs": [
    {
     "data": {
      "text/plain": [
       "-16482.02146156532"
      ]
     },
     "execution_count": 18,
     "metadata": {},
     "output_type": "execute_result"
    },
    {
     "data": {
      "image/png": "[encoded data removed]",
      "text/plain": [
       "<matplotlib.figure.Figure at 0xd3dde48>"
      ]
     },
     "metadata": {},
     "output_type": "display_data"
    }
   ],
   "source": [
    "Loss.hist(bins=100);\n",
    "Loss.mean()"
   ]
  },
  {
   "cell_type": "markdown",
   "metadata": {},
   "source": [
    "### Too many constraints for daves laptop! See S. Alexander et al "
   ]
  },
  {
   "cell_type": "code",
   "execution_count": 19,
   "metadata": {},
   "outputs": [],
   "source": [
    "def rho(z):\n",
    "    epsilon = 0.1\n",
    "    if z>= epsilon:\n",
    "        return z\n",
    "    elif np.abs(z) < epsilon:\n",
    "        return z**2/(4*epsilon) + 0.5*z + 0.25*epsilon\n",
    "    else:\n",
    "        return 0\n",
    "    return -1\n",
    "\n",
    "def Drho(z):\n",
    "    epsilon = 0.1\n",
    "    if z>= epsilon:\n",
    "        return 1\n",
    "    elif np.abs(z) < epsilon:\n",
    "        return z/(2*epsilon) + 0.5\n",
    "    else:\n",
    "        return 0\n",
    "    return -1\n",
    "vrho = np.vectorize(rho)\n",
    "vDrho = np.vectorize(Drho)"
   ]
  },
  {
   "cell_type": "code",
   "execution_count": 20,
   "metadata": {},
   "outputs": [
    {
     "data": {
      "text/plain": [
       "<numpy.lib.function_base.vectorize at 0x7cdac18>"
      ]
     },
     "execution_count": 20,
     "metadata": {},
     "output_type": "execute_result"
    }
   ],
   "source": [
    "alpha = 1\n",
    "x = np.random.rand(dV.shape[1]+1)\n",
    "V0 = np.array(V0)\n",
    "deltaV = np.array(dV)\n",
    "Lss = np.array(Loss)\n",
    "Beta = 0.95\n",
    "omega = 10**(-3.5)\n",
    "c = np.maximum(omega*np.percentile(Lss, 100*Beta), (-1)*omega*np.percentile(Lss, 100*Beta))\n",
    "C = (-1)*Lss.mean()/4;\n",
    "def F(x):\n",
    "    return x[0] + (1/(1-Beta))*vrho(Lss - np.inner(deltaV,x[1:])-x[0]).mean() + c*abs(x[1:]).sum()\n",
    "F(x)\n",
    "def grad_F(x):\n",
    "    der = np.zeros_like(x)\n",
    "    der[0] = 1 - (1/(1-Beta))*vDrho(Lss - np.inner(deltaV,x[1:])-x[0]).mean()\n",
    "    left = np.expand_dims((1/(1-Beta))*vDrho(Lss - np.inner(deltaV,x[1:])-x[0]),axis=0)\n",
    "    M = left.size\n",
    "    der[1:] = -1*(1/M)*np.inner(left,np.transpose(deltaV)) + c\n",
    "    return der\n",
    "if c < 0:\n",
    "    print(\"penalty parameter is less than zero\")\n",
    "vrho"
   ]
  },
  {
   "cell_type": "code",
   "execution_count": 21,
   "metadata": {},
   "outputs": [],
   "source": [
    "cons = ({'type': 'ineq',\n",
    "         'fun' : lambda x: -1*np.inner(V0,x[1:]) + C,\n",
    "         'jac' : lambda x: -1*np.insert(V0,0,0)},\n",
    "       {'type': 'ineq',\n",
    "          'fun' : lambda x: -1*Lss.mean()+1*np.inner(deltaV, x[1:]).mean(),\n",
    "          'jac' : lambda x: np.insert(1*deltaV.mean(axis = 0),0,0)})\n",
    "bnds = ((None,None),)\n",
    "for i in range(dV.shape[1]):\n",
    "    bnds = bnds + ((0, C),)\n"
   ]
  },
  {
   "cell_type": "code",
   "execution_count": 22,
   "metadata": {},
   "outputs": [
    {
     "name": "stdout",
     "output_type": "stream",
     "text": [
      "Optimization terminated successfully.    (Exit mode 0)\n",
      "            Current function value: 1363.3026366531276\n",
      "            Iterations: 61\n",
      "            Function evaluations: 153\n",
      "            Gradient evaluations: 61\n"
     ]
    }
   ],
   "source": [
    "res = minimize(F, x , jac=grad_F, bounds = bnds,\n",
    "               constraints=cons, method='SLSQP', options={'disp': True})"
   ]
  },
  {
   "cell_type": "code",
   "execution_count": 23,
   "metadata": {},
   "outputs": [
    {
     "data": {
      "text/plain": [
       "(10000, 210)"
      ]
     },
     "execution_count": 23,
     "metadata": {},
     "output_type": "execute_result"
    }
   ],
   "source": [
    "dV.shape"
   ]
  },
  {
   "cell_type": "code",
   "execution_count": 24,
   "metadata": {},
   "outputs": [
    {
     "name": "stdout",
     "output_type": "stream",
     "text": [
      "Var without:-2435.82671419\n",
      "Var with:-3001.63993467\n",
      "% decrease:23.2287960873\n",
      "Cost of portfolio:4120.50536541\n"
     ]
    },
    {
     "data": {
      "text/html": [
       "<div>\n",
       "<style scoped>\n",
       "    .dataframe tbody tr th:only-of-type {\n",
       "        vertical-align: middle;\n",
       "    }\n",
       "\n",
       "    .dataframe tbody tr th {\n",
       "        vertical-align: top;\n",
       "    }\n",
       "\n",
       "    .dataframe thead th {\n",
       "        text-align: right;\n",
       "    }\n",
       "</style>\n",
       "<table border=\"1\" class=\"dataframe\">\n",
       "  <thead>\n",
       "    <tr style=\"text-align: right;\">\n",
       "      <th></th>\n",
       "      <th>0</th>\n",
       "    </tr>\n",
       "  </thead>\n",
       "  <tbody>\n",
       "    <tr>\n",
       "      <th>0</th>\n",
       "      <td>(2017-08-24 00:00:00, 104.0, 1.0, Precip, call)</td>\n",
       "    </tr>\n",
       "    <tr>\n",
       "      <th>1</th>\n",
       "      <td>(2017-10-15 00:00:00, 104.0, 0.0, HDD, call)</td>\n",
       "    </tr>\n",
       "    <tr>\n",
       "      <th>2</th>\n",
       "      <td>(2017-10-15 00:00:00, 104.0, 0.0, Precip, call)</td>\n",
       "    </tr>\n",
       "    <tr>\n",
       "      <th>3</th>\n",
       "      <td>(2017-12-06 00:00:00, 52.0, 0.0, HDD, call)</td>\n",
       "    </tr>\n",
       "    <tr>\n",
       "      <th>4</th>\n",
       "      <td>(2017-12-06 00:00:00, 104.0, -1.0, HDD, call)</td>\n",
       "    </tr>\n",
       "    <tr>\n",
       "      <th>5</th>\n",
       "      <td>(2017-12-06 00:00:00, 104.0, 0.0, HDD, call)</td>\n",
       "    </tr>\n",
       "    <tr>\n",
       "      <th>6</th>\n",
       "      <td>(2018-01-27 00:00:00, 104.0, 0.0, Precip, call)</td>\n",
       "    </tr>\n",
       "    <tr>\n",
       "      <th>7</th>\n",
       "      <td>(2018-01-27 00:00:00, 104.0, 1.0, Precip, call)</td>\n",
       "    </tr>\n",
       "    <tr>\n",
       "      <th>8</th>\n",
       "      <td>(2018-05-11 00:00:00, 104.0, 0.0, CDD, call)</td>\n",
       "    </tr>\n",
       "  </tbody>\n",
       "</table>\n",
       "</div>"
      ],
      "text/plain": [
       "                                                 0\n",
       "0  (2017-08-24 00:00:00, 104.0, 1.0, Precip, call)\n",
       "1     (2017-10-15 00:00:00, 104.0, 0.0, HDD, call)\n",
       "2  (2017-10-15 00:00:00, 104.0, 0.0, Precip, call)\n",
       "3      (2017-12-06 00:00:00, 52.0, 0.0, HDD, call)\n",
       "4    (2017-12-06 00:00:00, 104.0, -1.0, HDD, call)\n",
       "5     (2017-12-06 00:00:00, 104.0, 0.0, HDD, call)\n",
       "6  (2018-01-27 00:00:00, 104.0, 0.0, Precip, call)\n",
       "7  (2018-01-27 00:00:00, 104.0, 1.0, Precip, call)\n",
       "8     (2018-05-11 00:00:00, 104.0, 0.0, CDD, call)"
      ]
     },
     "execution_count": 24,
     "metadata": {},
     "output_type": "execute_result"
    }
   ],
   "source": [
    "Lss_opt = Lss - np.inner(deltaV,res.x[1:])\n",
    "varwithout = np.percentile(Lss, 100*Beta)\n",
    "varwith = np.percentile(Lss_opt, 100*Beta)\n",
    "print(\"Var without:\" + str(varwithout))\n",
    "print(\"Var with:\" + str(varwith))\n",
    "print(\"% decrease:\" + str(100*(varwith-varwithout)/varwithout))\n",
    "print(\"Cost of portfolio:\" + str(np.inner(V0,res.x[1:])))\n",
    "weights = res.x[1:]/(res.x[1:].sum());\n",
    "pd.DataFrame(dV.columns[weights > 0.05])"
   ]
  },
  {
   "cell_type": "code",
   "execution_count": 25,
   "metadata": {},
   "outputs": [
    {
     "data": {
      "image/png": "[encoded data removed]",
      "text/plain": [
       "<matplotlib.figure.Figure at 0x7d2f358>"
      ]
     },
     "metadata": {},
     "output_type": "display_data"
    }
   ],
   "source": [
    "plt.figure\n",
    "#pd.DataFrame([Lss_opt,Loss],index = [\"With Derivatives\", \"Without\"]).transpose().plot.hist();\n",
    "bins = np.linspace(min(np.minimum(Lss_opt,Loss)), max(np.maximum(Lss_opt,Loss)), 20)\n",
    "plt.hist(-1*Loss, bins, alpha=0.5, label=\"Without\")\n",
    "plt.hist(-1*Lss_opt, bins, alpha=0.5, label='With Derivatives')\n",
    "\n",
    "plt.legend(loc='upper left')\n",
    "plt.show()\n"
   ]
  },
  {
   "cell_type": "code",
   "execution_count": 26,
   "metadata": {},
   "outputs": [
    {
     "data": {
      "text/plain": [
       "-34398.22171372466"
      ]
     },
     "execution_count": 26,
     "metadata": {},
     "output_type": "execute_result"
    }
   ],
   "source": [
    "min(np.minimum(Lss_opt,Loss))"
   ]
  },
  {
   "cell_type": "code",
   "execution_count": 27,
   "metadata": {},
   "outputs": [
    {
     "data": {
      "image/png": "[encoded data removed]",
      "text/plain": [
       "<matplotlib.figure.Figure at 0xd378fd0>"
      ]
     },
     "metadata": {},
     "output_type": "display_data"
    }
   ],
   "source": [
    "plt.figure\n",
    "plt.plot(V0*res.x[1:])\n",
    "plt.title('Portfolio Weights');"
   ]
  },
  {
   "cell_type": "code",
   "execution_count": 28,
   "metadata": {},
   "outputs": [],
   "source": [
    "schedule = pd.DataFrame(dV.columns[weights > 0.05],columns = ['A'])\n",
    "schedule.A\n",
    "schedule = pd.DataFrame([*schedule.A],columns = ['date', 'duration', 'strike (std)', 'index', 'option type'])\n",
    "schedule['ind'] = schedule['index'].str.cat(schedule['option type'], sep='--')\n",
    "schedule['ind'] = schedule['ind'].str.cat(schedule['duration'].astype(str), sep='--')\n",
    "schedule['ind'] = schedule['ind'].str.cat(schedule['strike (std)'].astype(str), sep='--')\n",
    "schedule['ind'] = schedule['ind'].str.cat(schedule['date'].astype(str), sep='--')\n",
    "schedule['Start_Date'] = pd.to_datetime(schedule['date']).astype(dt.datetime)\n",
    "schedule ['End_Date'] = pd.to_datetime(schedule['date']+pd.to_timedelta(schedule['duration'], unit = 'd')).astype(dt.datetime)"
   ]
  },
  {
   "cell_type": "code",
   "execution_count": 29,
   "metadata": {},
   "outputs": [
    {
     "data": {
      "image/png": "[encoded data removed]",
      "text/plain": [
       "<matplotlib.figure.Figure at 0xd4302b0>"
      ]
     },
     "metadata": {},
     "output_type": "display_data"
    }
   ],
   "source": [
    "import matplotlib.pyplot as plt\n",
    "import matplotlib.dates as dt\n",
    "fig = plt.figure()\n",
    "ax = fig.add_subplot(111)\n",
    "ax = ax.xaxis_date()\n",
    "ax = plt.hlines(schedule['ind'], dt.date2num(schedule['Start_Date']), dt.date2num(schedule ['End_Date']))"
   ]
  }
 ],
 "metadata": {
  "kernelspec": {
   "display_name": "Python [conda root]",
   "language": "python",
   "name": "conda-root-py"
  },
  "language_info": {
   "codemirror_mode": {
    "name": "ipython",
    "version": 3
   },
   "file_extension": ".py",
   "mimetype": "text/x-python",
   "name": "python",
   "nbconvert_exporter": "python",
   "pygments_lexer": "ipython3",
   "version": "3.5.4"
  }
 },
 "nbformat": 4,
 "nbformat_minor": 2
}
