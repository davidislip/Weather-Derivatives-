{
 "cells": [
  {
   "cell_type": "code",
   "execution_count": 43,
   "metadata": {},
   "outputs": [],
   "source": [
    "%matplotlib inline\n",
    "import pandas as pd\n",
    "import numpy as np\n",
    "import matplotlib.pyplot as plt\n",
    "import matplotlib\n",
    "import datetime as dt\n",
    "from scipy.optimize import minimize\n",
    "from mpl_toolkits.mplot3d import Axes3D\n",
    "from matplotlib import cm\n",
    "from  InvarianceTestEllipsoid import InvarianceTestEllipsoid\n",
    "from autocorrelation import autocorrelation\n",
    "from scipy import stats\n",
    "import scipy.signal as sig\n",
    "import statsmodels.api as sm\n",
    "\n",
    "Tin = pd.read_pickle(\"C:\\\\Users\\\\islipd\\\\Documents\\\\Thesis Notebooks\\\\Tout.pkl\")\n",
    "\n",
    "eta = pd.read_pickle(\"C:\\\\Users\\\\islipd\\\\Documents\\\\Thesis Notebooks\\\\Tinnov.pkl\")\n",
    "\n",
    "Pin = pd.read_pickle(\"C:\\\\Users\\\\islipd\\\\Documents\\\\Thesis Notebooks\\\\Pout.pkl\")\n",
    "\n",
    "full_data = pd.read_pickle(\"C:\\\\Users\\\\islipd\\\\Documents\\\\Thesis Notebooks\\\\kpi.pkl\")"
   ]
  },
  {
   "cell_type": "markdown",
   "metadata": {},
   "source": [
    "### 0. Pricing Functions"
   ]
  },
  {
   "cell_type": "markdown",
   "metadata": {},
   "source": [
    "#### 1. Actuarial Pricing of Temperature Derivatives: This is the most crude way to price weather derivatives"
   ]
  },
  {
   "cell_type": "code",
   "execution_count": 44,
   "metadata": {},
   "outputs": [
    {
     "data": {
      "text/html": [
       "<div>\n",
       "<style scoped>\n",
       "    .dataframe tbody tr th:only-of-type {\n",
       "        vertical-align: middle;\n",
       "    }\n",
       "\n",
       "    .dataframe tbody tr th {\n",
       "        vertical-align: top;\n",
       "    }\n",
       "\n",
       "    .dataframe thead th {\n",
       "        text-align: right;\n",
       "    }\n",
       "</style>\n",
       "<table border=\"1\" class=\"dataframe\">\n",
       "  <thead>\n",
       "    <tr style=\"text-align: right;\">\n",
       "      <th></th>\n",
       "      <th>HDD</th>\n",
       "      <th>CDD</th>\n",
       "    </tr>\n",
       "  </thead>\n",
       "  <tbody>\n",
       "    <tr>\n",
       "      <th>call</th>\n",
       "      <td>3381.853129</td>\n",
       "      <td>301.070320</td>\n",
       "    </tr>\n",
       "    <tr>\n",
       "      <th>put</th>\n",
       "      <td>0.000000</td>\n",
       "      <td>0.000000</td>\n",
       "    </tr>\n",
       "    <tr>\n",
       "      <th>futures</th>\n",
       "      <td>3418.523705</td>\n",
       "      <td>337.740896</td>\n",
       "    </tr>\n",
       "  </tbody>\n",
       "</table>\n",
       "</div>"
      ],
      "text/plain": [
       "                 HDD         CDD\n",
       "call     3381.853129  301.070320\n",
       "put         0.000000    0.000000\n",
       "futures  3418.523705  337.740896"
      ]
     },
     "execution_count": 44,
     "metadata": {},
     "output_type": "execute_result"
    }
   ],
   "source": [
    "t_start = full_data.index[-1]\n",
    "tau = 365\n",
    "K = 40\n",
    "alpha = 1\n",
    "T = 18\n",
    "r = 0.06/252\n",
    "kappa = 0\n",
    "CDDs = np.maximum(Tin[t_start:t_start+dt.timedelta(days=tau)] - T,0)\n",
    "HDDs = np.maximum(-1*Tin[t_start:t_start+dt.timedelta(days=tau)] + T,0)\n",
    "\n",
    "def priceOption(t_start, tau, K, T, Tin, kappa):\n",
    "    \n",
    "    CDDs = np.maximum(Tin[t_start:t_start+dt.timedelta(days=tau)] - T,0)\n",
    "    HDDs = np.maximum(-1*Tin[t_start:t_start+dt.timedelta(days=tau)] + T,0)\n",
    "    CDDscall = np.e**(-r*tau)*np.maximum(CDDs.sum() - K,0).mean()+kappa*np.maximum(CDDs.sum() - K,0).std()\n",
    "    CDDsput = np.e**(-r*tau)*np.maximum(K-CDDs.sum(),0).mean()+kappa*np.maximum(K-CDDs.sum(),0).std()\n",
    "    HDDscall = np.e**(-r*tau)*np.maximum(HDDs.sum() - K,0).mean()+kappa*np.maximum(HDDs.sum() - K,0).std()\n",
    "    HDDsput = np.e**(-r*tau)*np.maximum(K-HDDs.sum(),0).mean()+kappa*np.maximum(K-HDDs.sum(),0).std()\n",
    "    HDDsfutures = np.e**(-r*tau)*HDDs.sum().mean()\n",
    "    CDDsfutures = np.e**(-r*tau)*CDDs.sum().mean()\n",
    "    ind = [\"call\", 'put', \"futures\"]\n",
    "    cols = [\"HDD\", 'CDD']\n",
    "    prices = [(HDDscall,CDDscall), (HDDsput, CDDsput), (HDDsfutures, CDDsfutures)]\n",
    "    \n",
    "    return pd.DataFrame(prices, columns = cols, index = ind)\n",
    "    \n",
    "priceOption(t_start, tau, K, T, Tin,kappa)   \n"
   ]
  },
  {
   "cell_type": "markdown",
   "metadata": {},
   "source": [
    "### Consumption Pricing: Cao & Wei\n",
    "#### Assumption 1: I am going to use the temperature process from Benth et al\n",
    "#### Assumption 2: Investor Utility given by: $U(c_t,t) = e^{-\\rho t}\\frac{c_t^{\\gamma+1}}{\\gamma + 1}$\n",
    "#### Assumption 3: The dividend follows: $ln(\\delta_t) = \\alpha + \\mu\\ ln(\\delta_{t-1}) + \\nu_t$\n",
    "##### with $\\nu_t = \\sigma \\epsilon_t + \\sigma [\\frac{\\phi}{\\sqrt{1-\\phi^2}}\\zeta_t + \\eta_1\\zeta_{t-1}+...+\\eta_m\\zeta_{t-m}]$"
   ]
  },
  {
   "cell_type": "markdown",
   "metadata": {},
   "source": [
    "#### Contemporaneous Correlations only"
   ]
  },
  {
   "cell_type": "code",
   "execution_count": 45,
   "metadata": {},
   "outputs": [],
   "source": [
    "mu = 0.9\n",
    "m = 0\n",
    "phi = 0.25\n",
    "sigma = 0.2/(252*(1+(phi**2)/(1-phi**2)))\n",
    "rho = r\n",
    "\n",
    "alpha = 0.1\n",
    "nu_t = np.array(sigma*(np.random.normal(0, 1, eta.shape) + (phi/(1-phi**2)**0.5)*eta))\n",
    "gamma = -40\n",
    "delta_0 = 3"
   ]
  },
  {
   "cell_type": "code",
   "execution_count": 46,
   "metadata": {},
   "outputs": [
    {
     "data": {
      "text/plain": [
       "0.00020350063876571397"
      ]
     },
     "execution_count": 46,
     "metadata": {},
     "output_type": "execute_result"
    },
    {
     "data": {
      "image/png": "[encoded data removed]",
      "text/plain": [
       "<matplotlib.figure.Figure at 0x7d96dd8>"
      ]
     },
     "metadata": {},
     "output_type": "display_data"
    }
   ],
   "source": [
    "#solve for initial dividend by selting delta such that the interest rate is 6%\n",
    "tol=1\n",
    "iters = []\n",
    "for i in range(100):\n",
    "    iters.append(delta_0)\n",
    "    Deltas = np.zeros(nu_t.shape)\n",
    "    Deltas[0,:] = delta_0\n",
    "    for i in range(tau):\n",
    "        Deltas[i+1,:] = np.e**(alpha + mu*np.log(Deltas[i,:])+nu_t[i,:])\n",
    "    E = np.log(Deltas[tau,:]/delta_0).mean()\n",
    "    V = np.log(Deltas[tau,:]/delta_0).var()\n",
    "    tol = r - rho + (gamma*E+0.5*(gamma**2)*V)/tau\n",
    "    delta_0 = delta_0 - tol\n",
    "plt.plot(iters)\n",
    "tol"
   ]
  },
  {
   "cell_type": "markdown",
   "metadata": {},
   "source": [
    "### Time to simulate some dividends"
   ]
  },
  {
   "cell_type": "code",
   "execution_count": 47,
   "metadata": {},
   "outputs": [
    {
     "data": {
      "text/plain": [
       "2.7230003308238375"
      ]
     },
     "execution_count": 47,
     "metadata": {},
     "output_type": "execute_result"
    }
   ],
   "source": [
    "delta_0"
   ]
  },
  {
   "cell_type": "code",
   "execution_count": 48,
   "metadata": {},
   "outputs": [
    {
     "data": {
      "text/plain": [
       "-0.0017193782454323853"
      ]
     },
     "execution_count": 48,
     "metadata": {},
     "output_type": "execute_result"
    }
   ],
   "source": [
    "np.log(Deltas[tau,:]/delta_0).mean()"
   ]
  },
  {
   "cell_type": "code",
   "execution_count": 49,
   "metadata": {},
   "outputs": [
    {
     "data": {
      "image/png": "[encoded data removed]",
      "text/plain": [
       "<matplotlib.figure.Figure at 0xd112438>"
      ]
     },
     "metadata": {},
     "output_type": "display_data"
    }
   ],
   "source": [
    "nu_t = sigma*(np.random.normal(0, 1, eta.shape) + (phi/(1-phi**2)**0.5)*eta)\n",
    "nu_t = np.array(nu_t[t_start:t_start+dt.timedelta(days=tau)])\n",
    "\n",
    "\n",
    "Deltas = np.zeros(nu_t.shape)\n",
    "Deltas[0,:] = delta_0\n",
    "for i in range(tau):\n",
    "    Deltas[i+1,:] = np.e**(alpha + mu*np.log(Deltas[i,:])+nu_t[i,:])\n",
    "plt.plot(Deltas[:,0:3]);"
   ]
  },
  {
   "cell_type": "markdown",
   "metadata": {},
   "source": [
    "###  Now we take the expectations under $Q$ over each of the simulations to get the premiums\n",
    "$C(t,T_1,T_2,X) = e^{-\\rho(T_2-t)} \\delta_t^{-\\gamma}\\ \\mathbb{E}\\big(\\delta_{T_2}^{\\gamma}q(X,T_1,T2)\\big)$"
   ]
  },
  {
   "cell_type": "code",
   "execution_count": 50,
   "metadata": {},
   "outputs": [
    {
     "data": {
      "text/html": [
       "<div>\n",
       "<style scoped>\n",
       "    .dataframe tbody tr th:only-of-type {\n",
       "        vertical-align: middle;\n",
       "    }\n",
       "\n",
       "    .dataframe tbody tr th {\n",
       "        vertical-align: top;\n",
       "    }\n",
       "\n",
       "    .dataframe thead th {\n",
       "        text-align: right;\n",
       "    }\n",
       "</style>\n",
       "<table border=\"1\" class=\"dataframe\">\n",
       "  <thead>\n",
       "    <tr style=\"text-align: right;\">\n",
       "      <th></th>\n",
       "      <th>HDD</th>\n",
       "      <th>CDD</th>\n",
       "    </tr>\n",
       "  </thead>\n",
       "  <tbody>\n",
       "    <tr>\n",
       "      <th>call</th>\n",
       "      <td>3636.584303</td>\n",
       "      <td>323.479632</td>\n",
       "    </tr>\n",
       "    <tr>\n",
       "      <th>put</th>\n",
       "      <td>0.000000</td>\n",
       "      <td>0.000000</td>\n",
       "    </tr>\n",
       "    <tr>\n",
       "      <th>futures</th>\n",
       "      <td>3676.017079</td>\n",
       "      <td>362.912407</td>\n",
       "    </tr>\n",
       "  </tbody>\n",
       "</table>\n",
       "</div>"
      ],
      "text/plain": [
       "                 HDD         CDD\n",
       "call     3636.584303  323.479632\n",
       "put         0.000000    0.000000\n",
       "futures  3676.017079  362.912407"
      ]
     },
     "execution_count": 50,
     "metadata": {},
     "output_type": "execute_result"
    }
   ],
   "source": [
    "def priceOptionCaoWei(t_start, tau, K, T, Tin):\n",
    "    \n",
    "    CDDs = np.maximum(Tin[t_start:t_start+dt.timedelta(days=tau)] - T,0)\n",
    "    HDDs = np.maximum(-1*Tin[t_start:t_start+dt.timedelta(days=tau)] + T,0)\n",
    "    disc = np.e**(-rho*tau)*(delta_0**(-1*gamma))\n",
    "    CDDscall = disc*(((Deltas[tau,:]**gamma)*np.maximum(CDDs.sum() - K,0))).mean()\n",
    "    CDDsput = disc*((Deltas[tau,:]**gamma)*np.maximum(K-CDDs.sum(),0)).mean()\n",
    "    HDDscall = disc*((Deltas[tau,:]**gamma)*np.maximum(HDDs.sum() - K,0)).mean()\n",
    "    HDDsput = disc*((Deltas[tau,:]**gamma)*np.maximum(K-HDDs.sum(),0)).mean()\n",
    "    HDDsfutures =  disc*((Deltas[tau,:]**gamma)*HDDs.sum()).mean()\n",
    "    CDDsfutures =  disc*((Deltas[tau,:]**gamma)*CDDs.sum()).mean()\n",
    "    ind = [\"call\", 'put', \"futures\"]\n",
    "    cols = [\"HDD\", 'CDD']\n",
    "    prices = [(HDDscall,CDDscall), (HDDsput, CDDsput), (HDDsfutures, CDDsfutures)]\n",
    "    \n",
    "    return pd.DataFrame(prices, columns = cols, index = ind)\n",
    "priceOptionCaoWei(t_start, tau, K, T, Tin)"
   ]
  },
  {
   "cell_type": "markdown",
   "metadata": {},
   "source": [
    "### Creating a universe of derivatives "
   ]
  },
  {
   "cell_type": "code",
   "execution_count": 51,
   "metadata": {},
   "outputs": [],
   "source": [
    "\n",
    "def priceCaoWeiV0(t_start, tau, NumStds, T, Tin, Pin, indexType, optionType):\n",
    "    #this function returns the premium for a weather derivative \n",
    "    #INPUTS:\n",
    "    #t_start: starting date for derivatives\n",
    "    #tau: duration of option\n",
    "    #Numstds: set the strike of the option\n",
    "    #T: Threshold to define index \n",
    "    #Tin, Pin: Temperature and Precipitation Monte Carlo \n",
    "    #index type and option Type: 'CDD', 'HDD', 'Precip'\n",
    "    if indexType == \"CDD\":\n",
    "        CDDs = np.maximum(Tin[t_start:t_start+dt.timedelta(days=tau)] - T,0)\n",
    "        meanCDD = np.maximum(Tin[t_start:t_start+dt.timedelta(days=tau)] - T,0).sum().mean()\n",
    "        stdCDD = np.maximum(Tin[t_start:t_start+dt.timedelta(days=tau)] - T,0).sum().std()\n",
    "        K =  meanCDD + NumStds*stdCDD\n",
    "    if indexType == \"HDD\":\n",
    "        HDDs = np.maximum(-1*Tin[t_start:t_start+dt.timedelta(days=tau)] + T,0)\n",
    "        meanHDD = np.maximum(-1*Tin[t_start:t_start+dt.timedelta(days=tau)] + T,0).sum().mean()\n",
    "        stdHDD = np.maximum(-1*Tin[t_start:t_start+dt.timedelta(days=tau)] + T,0).sum().std()\n",
    "        K =  meanHDD + NumStds*stdHDD\n",
    "    if indexType == \"Precip\":\n",
    "        Precip = np.maximum(Pin[t_start:t_start+dt.timedelta(days=tau)],0)\n",
    "        meanPrecip = Precip.sum().mean()\n",
    "        stdPrecip = Precip.sum().std()\n",
    "        K =  meanPrecip + NumStds*stdPrecip\n",
    "    disc = np.e**(-rho*tau)*(delta_0**(-1*gamma))\n",
    "    if optionType == \"call\" and indexType== \"CDD\":\n",
    "        CDDscall = disc*(((Deltas[tau,:]**gamma)*np.maximum(CDDs.sum() - K,0))).mean()\n",
    "        return CDDscall\n",
    "    if optionType == \"put\" and indexType== \"CDD\":\n",
    "        CDDsput = disc*((Deltas[tau,:]**gamma)*np.maximum(K-CDDs.sum(),0)).mean()\n",
    "        return CDDsput\n",
    "    if optionType == \"call\" and indexType== \"HDD\":\n",
    "        HDDscall = disc*((Deltas[tau,:]**gamma)*np.maximum(HDDs.sum() - K,0)).mean()\n",
    "        return HDDscall\n",
    "    if optionType == \"put\" and indexType== \"HDD\":\n",
    "        HDDsput = disc*((Deltas[tau,:]**gamma)*np.maximum(K-HDDs.sum(),0)).mean()\n",
    "        return HDDsput  \n",
    "    if optionType == \"call\" and indexType== \"Precip\":\n",
    "        Precipcall = disc*((Deltas[tau,:]**gamma)*np.maximum(Precip.sum()-K,0)).mean()\n",
    "        return Precipcall\n",
    "    if optionType == \"put\" and indexType== \"Precip\":\n",
    "        Precipput = disc*((Deltas[tau,:]**gamma)*np.maximum(K-Precip.sum(),0)).mean()\n",
    "        return Precipput     \n",
    "    return -1"
   ]
  },
  {
   "cell_type": "code",
   "execution_count": 52,
   "metadata": {},
   "outputs": [
    {
     "name": "stdout",
     "output_type": "stream",
     "text": [
      "-8.093294396119218\n",
      "114.656600972\n"
     ]
    }
   ],
   "source": [
    "def priceCaoWeidV(t_start, tau, NumStds, T, Tin, Pin, indexType, optionType):\n",
    "    #this function returns the option deltas over the period of interest  \n",
    "    #INPUTS:\n",
    "    #t_start: starting date for derivatives\n",
    "    #tau: duration of option\n",
    "    #Numstds: set the strike of the option\n",
    "    #T: Threshold to define index \n",
    "    #Tin, Pin: Temperature and Precipitation Monte Carlo \n",
    "    #index type and option Type: 'CDD', 'HDD', 'Precip'\n",
    "    if indexType == \"CDD\":\n",
    "        CDDs = np.maximum(Tin[t_start:t_start+dt.timedelta(days=tau)] - T,0)\n",
    "        meanCDD = np.maximum(Tin[t_start:t_start+dt.timedelta(days=tau)] - T,0).sum().mean()\n",
    "        stdCDD = np.maximum(Tin[t_start:t_start+dt.timedelta(days=tau)] - T,0).sum().std()\n",
    "        K =  meanCDD + NumStds*stdCDD\n",
    "    if indexType == \"HDD\":\n",
    "        HDDs = np.maximum(-1*Tin[t_start:t_start+dt.timedelta(days=tau)] + T,0)\n",
    "        meanHDD = np.maximum(-1*Tin[t_start:t_start+dt.timedelta(days=tau)] + T,0).sum().mean()\n",
    "        stdHDD = np.maximum(-1*Tin[t_start:t_start+dt.timedelta(days=tau)] + T,0).sum().std()\n",
    "        K =  meanHDD + NumStds*stdHDD\n",
    "    if indexType == \"Precip\":\n",
    "        Precip = np.maximum(Pin[t_start:t_start+dt.timedelta(days=tau)],0)\n",
    "        meanPrecip = Precip.sum().mean()\n",
    "        stdPrecip = Precip.sum().std()\n",
    "        K =  meanPrecip + NumStds*stdPrecip\n",
    "    disc = np.e**(-rho*tau)*(delta_0**(-1*gamma))\n",
    "    if optionType == \"call\" and indexType== \"CDD\":\n",
    "        CDDscall = np.e**(-rho*tau)*np.maximum(CDDs.sum() - K,0) - disc*(((Deltas[tau,:]**gamma)*np.maximum(CDDs.sum() - K,0))).mean()\n",
    "        return CDDscall\n",
    "    if optionType == \"put\" and indexType== \"CDD\":\n",
    "        CDDsput = np.e**(-rho*tau)*np.maximum(K-CDDs.sum(),0) - disc*((Deltas[tau,:]**gamma)*np.maximum(K-CDDs.sum(),0)).mean()\n",
    "        return CDDsput\n",
    "    if optionType == \"call\" and indexType== \"HDD\":\n",
    "        HDDscall = np.e**(-rho*tau)*np.maximum(HDDs.sum() - K,0) - disc*((Deltas[tau,:]**gamma)*np.maximum(HDDs.sum() - K,0)).mean()\n",
    "        return HDDscall\n",
    "    if optionType == \"put\" and indexType== \"HDD\":\n",
    "        HDDsput = np.e**(-rho*tau)*np.maximum(K-HDDs.sum(),0) - disc*((Deltas[tau,:]**gamma)*np.maximum(K-HDDs.sum(),0)).mean()\n",
    "        return HDDsput  \n",
    "    if optionType == \"call\" and indexType== \"Precip\":\n",
    "        Precipcall = np.e**(-rho*tau)*np.maximum(Precip.sum() - K,0) - disc*((Deltas[tau,:]**gamma)*np.maximum(Precip.sum()-K,0)).mean()\n",
    "        return Precipcall\n",
    "    if optionType == \"put\" and indexType== \"Precip\":\n",
    "        Precipput = np.e**(-rho*tau)*np.maximum(K-Precip.sum(),0) - disc*((Deltas[tau,:]**gamma)*np.maximum(K-Precip.sum(),0)).mean()\n",
    "        return Precipput     \n",
    "    return -1\n",
    "NumStds = -1\n",
    "indexType = \"Precip\"\n",
    "optionType = \"call\"\n",
    "print(priceCaoWeidV(t_start, tau, NumStds, T, Tin, Pin, indexType, optionType).mean())\n",
    "print(priceCaoWeiV0(t_start, tau, NumStds, T, Tin, Pin, indexType, optionType))"
   ]
  },
  {
   "cell_type": "code",
   "execution_count": 65,
   "metadata": {},
   "outputs": [],
   "source": [
    "indextypes = [\"HDD\",\"CDD\",\"Precip\"]\n",
    "optiontypes = [\"call\", \"put\"]\n",
    "N_intervals = 13\n",
    "N_strikes = 5\n",
    "N_taus = 3\n",
    "t_starts = [t_start + dt.timedelta(days=int(x)) for x in list(np.linspace(0,tau,N_intervals).astype(int))]\n",
    "t_starts = t_starts[:-1]\n",
    "taus = list(np.diff(np.linspace(0,tau,N_intervals).astype(int)))\n",
    "taus = np.median(taus)\n",
    "taus = [taus*(x+1) for x in range(N_taus)]\n",
    "strikes = np.linspace(-2,2,N_strikes)"
   ]
  },
  {
   "cell_type": "code",
   "execution_count": 67,
   "metadata": {},
   "outputs": [],
   "source": [
    "ind = pd.MultiIndex.from_product([t_starts,taus,strikes,indextypes,optiontypes],names = ['tstart', 'tau', 'strike','index','option'])\n",
    "dV = pd.DataFrame(np.zeros([len(Tin.columns),len(ind)]), index = Tin.columns, columns = ind)\n",
    "V0 = pd.Series(np.zeros(len(ind)), index = ind)\n",
    "T = 18; #threshold\n",
    "for i in range(dV.shape[1]):\n",
    "    dV.iloc[:,i] = priceCaoWeidV(dV.columns[i][0], int(dV.columns[i][1]), dV.columns[i][2],\n",
    "                                 T, Tin, Pin, dV.columns[i][3], dV.columns[i][4])\n",
    "    V0[i] = priceCaoWeiV0(V0.index[i][0], int(V0.index[i][1]), V0.index[i][2],\n",
    "                                 T, Tin, Pin, V0.index[i][3], V0.index[i][4])"
   ]
  },
  {
   "cell_type": "code",
   "execution_count": 69,
   "metadata": {},
   "outputs": [],
   "source": [
    "dV.to_pickle(\"C:\\\\Users\\\\islipd\\\\Documents\\\\Thesis Notebooks\\\\dV.pkl\")\n",
    "V0.to_pickle(\"C:\\\\Users\\\\islipd\\\\Documents\\\\Thesis Notebooks\\\\V0.pkl\")"
   ]
  }
 ],
 "metadata": {
  "anaconda-cloud": {},
  "kernelspec": {
   "display_name": "Python [default]",
   "language": "python",
   "name": "python3"
  },
  "language_info": {
   "codemirror_mode": {
    "name": "ipython",
    "version": 3
   },
   "file_extension": ".py",
   "mimetype": "text/x-python",
   "name": "python",
   "nbconvert_exporter": "python",
   "pygments_lexer": "ipython3",
   "version": "3.5.4"
  }
 },
 "nbformat": 4,
 "nbformat_minor": 1
}
